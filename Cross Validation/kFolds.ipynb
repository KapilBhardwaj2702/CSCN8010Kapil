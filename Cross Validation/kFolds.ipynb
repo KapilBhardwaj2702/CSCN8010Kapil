{
 "cells": [
  {
   "cell_type": "code",
   "execution_count": 9,
   "id": "95d3c4c9",
   "metadata": {},
   "outputs": [
    {
     "name": "stdout",
     "output_type": "stream",
     "text": [
      "Defaulting to user installation because normal site-packages is not writeable\n",
      "Requirement already satisfied: chardet in c:\\users\\acer\\appdata\\roaming\\python\\python312\\site-packages (5.2.0)\n",
      "Detected encoding: Windows-1252\n"
     ]
    },
    {
     "name": "stderr",
     "output_type": "stream",
     "text": [
      "\n",
      "[notice] A new release of pip is available: 24.2 -> 25.1.1\n",
      "[notice] To update, run: python.exe -m pip install --upgrade pip\n"
     ]
    },
    {
     "name": "stdout",
     "output_type": "stream",
     "text": [
      "MSE scores for each fold: [379215621.41385335, 57102817.15619991, 16020798.202026764, 38613935.622684054, 33212779.499659576]\n",
      "Average MSE: 104833190.37888475\n"
     ]
    }
   ],
   "source": [
    "!pip install chardet\n",
    "\n",
    "import pandas as pd\n",
    "from sklearn.model_selection import KFold\n",
    "from sklearn.ensemble import RandomForestRegressor\n",
    "from sklearn.metrics import mean_squared_error\n",
    "import numpy as np\n",
    "import chardet\n",
    "\n",
    "# Step 1: Detect encoding\n",
    "file_path = './Cross Validation/Data/autos_updated.csv'  # Replace with your actual file path\n",
    "\n",
    "with open(file_path, 'rb') as f:\n",
    "    rawdata = f.read(10000)  # Read first 10k bytes\n",
    "    result = chardet.detect(rawdata)\n",
    "    encoding = result['encoding']\n",
    "    print(f\"Detected encoding: {encoding}\")\n",
    "\n",
    "# Step 2: Load dataset with detected encoding\n",
    "df = pd.read_csv(file_path, encoding=encoding)\n",
    "\n",
    "# Step 3: Select features and target\n",
    "features = ['yearOfRegistration', 'powerPS', 'kilometer', 'monthOfRegistration', 'nrOfPictures']\n",
    "X = df[features]\n",
    "y = df['price']\n",
    "\n",
    "# Step 4: Handle missing values by filling with 0\n",
    "X = X.fillna(0)\n",
    "y = y.fillna(0)\n",
    "\n",
    "# Step 5: Set up K-Fold cross-validation\n",
    "kf = KFold(n_splits=5, shuffle=True, random_state=42)\n",
    "mse_scores = []\n",
    "\n",
    "for train_index, test_index in kf.split(X):\n",
    "    X_train, X_test = X.iloc[train_index], X.iloc[test_index]\n",
    "    y_train, y_test = y.iloc[train_index], y.iloc[test_index]\n",
    "\n",
    "    # Step 6: Train Random Forest model\n",
    "    model = RandomForestRegressor(n_estimators=100, random_state=42)\n",
    "    model.fit(X_train, y_train)\n",
    "    \n",
    "    # Step 7: Predict and evaluate\n",
    "    y_pred = model.predict(X_test)\n",
    "    mse = mean_squared_error(y_test, y_pred)\n",
    "    mse_scores.append(mse)\n",
    "\n",
    "# Step 8: Output results\n",
    "print(\"MSE scores for each fold:\", mse_scores)\n",
    "print(\"Average MSE:\", np.mean(mse_scores))\n"
   ]
  },
  {
   "cell_type": "markdown",
   "id": "9b40019d",
   "metadata": {},
   "source": [
    "## Important Points\n",
    "\n",
    "**Handle missing values:**\n",
    "\n",
    "Fills any missing data with zeros to avoid errors during model training.\n",
    "\n",
    "**Set up K-Fold cross-validation:**\n",
    "\n",
    "- Splits data into 5 folds randomly (shuffle=True).\n",
    "\n",
    "- For each fold, 4 parts are training data, 1 part is testing data.\n",
    "\n",
    "**Train and test the model in each fold:**\n",
    "\n",
    "- Creates and fits a Random Forest model on training data.\n",
    "\n",
    "- Predicts prices on the test data.\n",
    "\n",
    "- Calculates the mean squared error (MSE) for predictions.\n",
    "\n",
    "**Collect and print results:**\n",
    "\n",
    "- Stores MSE of each fold in a list.\n",
    "\n",
    "- Prints MSE scores per fold and the average MSE across all folds."
   ]
  }
 ],
 "metadata": {
  "kernelspec": {
   "display_name": "Python 3",
   "language": "python",
   "name": "python3"
  },
  "language_info": {
   "codemirror_mode": {
    "name": "ipython",
    "version": 3
   },
   "file_extension": ".py",
   "mimetype": "text/x-python",
   "name": "python",
   "nbconvert_exporter": "python",
   "pygments_lexer": "ipython3",
   "version": "3.12.6"
  }
 },
 "nbformat": 4,
 "nbformat_minor": 5
}
